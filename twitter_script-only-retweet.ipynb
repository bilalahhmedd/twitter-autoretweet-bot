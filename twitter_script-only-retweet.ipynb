{
 "cells": [
  {
   "cell_type": "markdown",
   "metadata": {},
   "source": [
    "# retweet #tag from people you follow & scrape tweet"
   ]
  },
  {
   "cell_type": "code",
   "execution_count": 1,
   "metadata": {},
   "outputs": [
    {
     "name": "stdout",
     "output_type": "stream",
     "text": [
      "search term: #covid\n"
     ]
    }
   ],
   "source": [
    "import re\n",
    "import csv\n",
    "from getpass import getpass\n",
    "from time import sleep\n",
    "from selenium.webdriver.common.keys import Keys\n",
    "from selenium.common.exceptions import NoSuchElementException\n",
    "from selenium import webdriver\n",
    "\n",
    "#user = input('username: ')\n",
    "user = '+923447724960'\n",
    "\n",
    "#my_password = getpass('Password: ')\n",
    "my_password = 'trigger890'\n",
    "\n",
    "search_term = input('search term: ')\n"
   ]
  },
  {
   "cell_type": "code",
   "execution_count": 2,
   "metadata": {},
   "outputs": [
    {
     "name": "stdout",
     "output_type": "stream",
     "text": [
      "driver initiated\n"
     ]
    }
   ],
   "source": [
    "driver = webdriver.Chrome()\n",
    "driver.maximize_window()\n",
    "\n",
    "sleep(3)\n",
    "print('driver initiated')"
   ]
  },
  {
   "cell_type": "code",
   "execution_count": 3,
   "metadata": {},
   "outputs": [
    {
     "name": "stdout",
     "output_type": "stream",
     "text": [
      "website loaded\n"
     ]
    }
   ],
   "source": [
    "driver.get(\"https://www.twitter.com/login\")\n",
    "sleep(3)\n",
    "print('website loaded')"
   ]
  },
  {
   "cell_type": "code",
   "execution_count": 4,
   "metadata": {},
   "outputs": [],
   "source": [
    "username = driver.find_element_by_xpath('//input[@name=\"session[username_or_email]\"]')\n",
    "# username.send_keys('ChampMalik3')\n",
    "username.send_keys(user)"
   ]
  },
  {
   "cell_type": "code",
   "execution_count": 5,
   "metadata": {},
   "outputs": [],
   "source": [
    "password = driver.find_element_by_xpath('//input[@name=\"session[password]\"]')\n",
    "# password.send_keys('hmmd2754')\n",
    "password.send_keys(my_password)"
   ]
  },
  {
   "cell_type": "code",
   "execution_count": 6,
   "metadata": {},
   "outputs": [],
   "source": [
    "password.send_keys(Keys.RETURN)"
   ]
  },
  {
   "cell_type": "code",
   "execution_count": 7,
   "metadata": {},
   "outputs": [],
   "source": [
    "#put delay\n",
    "sleep(3)\n",
    "search_input = driver.find_element_by_xpath('//input[@aria-label=\"Search query\"]')\n",
    "search_input.send_keys(search_term)"
   ]
  },
  {
   "cell_type": "code",
   "execution_count": 8,
   "metadata": {},
   "outputs": [],
   "source": [
    "search_input.send_keys(Keys.RETURN)\n",
    "sleep(3)"
   ]
  },
  {
   "cell_type": "code",
   "execution_count": 9,
   "metadata": {},
   "outputs": [],
   "source": [
    "\n",
    "filterr = driver.find_elements_by_class_name(\"r-1p0dtai.r-1ei5mc7.r-1pi2tsx.r-1d2f490.r-crgep1.r-orgf3d.r-t60dpp.r-u8s1d.r-zchlnj.r-ipm5af.r-13qz1uu\")\n",
    "filterr[1].click()\n",
    "sleep(3)\n",
    "\n",
    "# <input name=\"People\" type=\"radio\" data-focusable=\"true\" class=\"r-1p0dtai r-1ei5mc7 r-1pi2tsx r-1d2f490 r-crgep1 r-orgf3d r-t60dpp r-u8s1d r-zchlnj r-ipm5af r-13qz1uu\">\n"
   ]
  },
  {
   "cell_type": "code",
   "execution_count": 10,
   "metadata": {},
   "outputs": [],
   "source": [
    "def retweet(card):\n",
    "    \"\"\"Extract data from tweet card\"\"\"\n",
    "    sleep(1)\n",
    "    '''\n",
    "    try:\n",
    "        username = card.find_element_by_xpath('.//span').text\n",
    "    except:\n",
    "        username=\"\"\n",
    "    try:\n",
    "        handle = card.find_element_by_xpath('.//span[contains(text(), \"@\")]').text\n",
    "    except NoSuchElementException:\n",
    "        return\n",
    "    \n",
    "   \n",
    "    try:\n",
    "        comment = card.find_element_by_xpath('.//div[2]/div[2]/div[1]').text\n",
    "    except:\n",
    "        comment=\"\"\n",
    "    try:\n",
    "        responding = card.find_element_by_xpath('.//div[2]/div[2]/div[2]').text\n",
    "    except:\n",
    "        responding=\"\"\n",
    "    \n",
    "    text = comment + responding\n",
    "    \n",
    "    try:\n",
    "        reply_cnt = card.find_element_by_xpath('.//div[@data-testid=\"reply\"]').text\n",
    "    except:\n",
    "        reply_cnt=\"\"\n",
    "    try:\n",
    "        retweet_cnt = card.find_element_by_xpath('.//div[@data-testid=\"retweet\"]').text\n",
    "    \n",
    "    except:\n",
    "        retweet_cnt=\"\"\n",
    "    try:\n",
    "        like_cnt = card.find_element_by_xpath('.//div[@data-testid=\"like\"]').text\n",
    "    \n",
    "    except:\n",
    "        like_cnt=\"\"\n",
    "    \n",
    "    tweet = (username, handle, text, reply_cnt, retweet_cnt, like_cnt)\n",
    "    '''\n",
    "    try:\n",
    "        rtButtons = card.find_elements_by_xpath(\"//div[@data-testid='retweet']\")\n",
    "        for rtButton in rtButtons:\n",
    "            rtButton.click()\n",
    "            sleep(2)\n",
    "            confirm = card.find_element_by_xpath(\"//div[@data-testid='retweetConfirm']\")\n",
    "            confirm.click()\n",
    "            sleep(2)\n",
    "    except:\n",
    "        pass\n",
    "\n",
    "    \n",
    "    \n",
    "        "
   ]
  },
  {
   "cell_type": "code",
   "execution_count": 11,
   "metadata": {},
   "outputs": [],
   "source": [
    "# retweet all tweets on page\n",
    "data = []\n",
    "tweet_ids = set()\n",
    "last_position = driver.execute_script(\"return window.pageYOffset;\")\n",
    "scrolling = True\n",
    "\n",
    "while scrolling:\n",
    "    page_cards = driver.find_elements_by_xpath('//div[@data-testid=\"tweet\"]')\n",
    "    for card in page_cards[:20]:\n",
    "        retweet(card)    \n",
    "    scroll_attempt = 0\n",
    "    while True:\n",
    "        # check scroll position\n",
    "        driver.execute_script('window.scrollTo(0, document.body.scrollHeight);')\n",
    "        sleep(2)\n",
    "        curr_position = driver.execute_script(\"return window.pageYOffset;\")\n",
    "        if last_position == curr_position:\n",
    "            scroll_attempt += 1\n",
    "            \n",
    "            # end of scroll region\n",
    "            if scroll_attempt >= 2:\n",
    "                scrolling = False\n",
    "                break\n",
    "            else:\n",
    "                sleep(2) # attempt another scroll\n",
    "        else:\n",
    "            last_position = curr_position\n",
    "            \n",
    "            break\n",
    "\n",
    "# driver.close()"
   ]
  },
  {
   "cell_type": "code",
   "execution_count": null,
   "metadata": {},
   "outputs": [],
   "source": []
  }
 ],
 "metadata": {
  "kernelspec": {
   "display_name": "Python 3",
   "language": "python",
   "name": "python3"
  },
  "language_info": {
   "codemirror_mode": {
    "name": "ipython",
    "version": 3
   },
   "file_extension": ".py",
   "mimetype": "text/x-python",
   "name": "python",
   "nbconvert_exporter": "python",
   "pygments_lexer": "ipython3",
   "version": "3.6.9"
  }
 },
 "nbformat": 4,
 "nbformat_minor": 2
}
